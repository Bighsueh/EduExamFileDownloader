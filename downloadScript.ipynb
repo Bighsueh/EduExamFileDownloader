{
 "cells": [
  {
   "cell_type": "code",
   "execution_count": 1,
   "metadata": {},
   "outputs": [],
   "source": [
    "from ExamFileDownloader import ExamFileDownloader"
   ]
  },
  {
   "cell_type": "code",
   "execution_count": 2,
   "metadata": {},
   "outputs": [
    {
     "ename": "KeyboardInterrupt",
     "evalue": "",
     "output_type": "error",
     "traceback": [
      "\u001b[0;31m---------------------------------------------------------------------------\u001b[0m",
      "\u001b[0;31mKeyboardInterrupt\u001b[0m                         Traceback (most recent call last)",
      "Cell \u001b[0;32mIn[2], line 4\u001b[0m\n\u001b[1;32m      2\u001b[0m downloader \u001b[38;5;241m=\u001b[39m ExamFileDownloader(\u001b[38;5;124m'\u001b[39m\u001b[38;5;124m./exam_data.csv\u001b[39m\u001b[38;5;124m'\u001b[39m,download_folder\u001b[38;5;241m=\u001b[39m\u001b[38;5;124m'\u001b[39m\u001b[38;5;124m./download_folder\u001b[39m\u001b[38;5;124m'\u001b[39m)\n\u001b[1;32m      3\u001b[0m \u001b[38;5;66;03m# 執行下載\u001b[39;00m\n\u001b[0;32m----> 4\u001b[0m downloader\u001b[38;5;241m.\u001b[39mdownload_files()\n\u001b[1;32m      5\u001b[0m \u001b[38;5;66;03m# 儲存對應關係\u001b[39;00m\n\u001b[1;32m      6\u001b[0m downloader\u001b[38;5;241m.\u001b[39msave_mapping()\n",
      "File \u001b[0;32m~/Code/Python/crawler/全國中小學題庫網/ExamFileDownloader.py:38\u001b[0m, in \u001b[0;36mExamFileDownloader.download_files\u001b[0;34m(self)\u001b[0m\n\u001b[1;32m     36\u001b[0m \u001b[38;5;66;03m# 嘗試下載 File_2\u001b[39;00m\n\u001b[1;32m     37\u001b[0m \u001b[38;5;28;01mif\u001b[39;00m pd\u001b[38;5;241m.\u001b[39mnotna(file_url_2) \u001b[38;5;129;01mand\u001b[39;00m file_url_2 \u001b[38;5;241m!=\u001b[39m \u001b[38;5;124m'\u001b[39m\u001b[38;5;124m0\u001b[39m\u001b[38;5;124m'\u001b[39m:\n\u001b[0;32m---> 38\u001b[0m     \u001b[38;5;28mself\u001b[39m\u001b[38;5;241m.\u001b[39m_download_file(file_url_2, new_name_2)\n",
      "File \u001b[0;32m~/Code/Python/crawler/全國中小學題庫網/ExamFileDownloader.py:50\u001b[0m, in \u001b[0;36mExamFileDownloader._download_file\u001b[0;34m(self, url, new_name)\u001b[0m\n\u001b[1;32m     48\u001b[0m response\u001b[38;5;241m.\u001b[39mraise_for_status()  \u001b[38;5;66;03m# 確保下載成功\u001b[39;00m\n\u001b[1;32m     49\u001b[0m file_path \u001b[38;5;241m=\u001b[39m os\u001b[38;5;241m.\u001b[39mpath\u001b[38;5;241m.\u001b[39mjoin(\u001b[38;5;28mself\u001b[39m\u001b[38;5;241m.\u001b[39mdownload_folder, new_name)\n\u001b[0;32m---> 50\u001b[0m \u001b[38;5;28;01mwith\u001b[39;00m \u001b[38;5;28mopen\u001b[39m(file_path, \u001b[38;5;124m'\u001b[39m\u001b[38;5;124mwb\u001b[39m\u001b[38;5;124m'\u001b[39m) \u001b[38;5;28;01mas\u001b[39;00m file:\n\u001b[1;32m     51\u001b[0m     file\u001b[38;5;241m.\u001b[39mwrite(response\u001b[38;5;241m.\u001b[39mcontent)\n\u001b[1;32m     52\u001b[0m \u001b[38;5;28mself\u001b[39m\u001b[38;5;241m.\u001b[39mfile_mapping[url] \u001b[38;5;241m=\u001b[39m new_name\n",
      "\u001b[0;31mKeyboardInterrupt\u001b[0m: "
     ]
    }
   ],
   "source": [
    "# 初始化下載器\n",
    "downloader = ExamFileDownloader('./exam_data.csv',download_folder='./download_folder')\n",
    "# 執行下載\n",
    "downloader.download_files()\n",
    "# 儲存對應關係\n",
    "downloader.save_mapping()"
   ]
  },
  {
   "cell_type": "code",
   "execution_count": null,
   "metadata": {},
   "outputs": [],
   "source": []
  }
 ],
 "metadata": {
  "kernelspec": {
   "display_name": "base",
   "language": "python",
   "name": "python3"
  },
  "language_info": {
   "codemirror_mode": {
    "name": "ipython",
    "version": 3
   },
   "file_extension": ".py",
   "mimetype": "text/x-python",
   "name": "python",
   "nbconvert_exporter": "python",
   "pygments_lexer": "ipython3",
   "version": "3.11.3"
  }
 },
 "nbformat": 4,
 "nbformat_minor": 2
}
