{
 "cells": [
  {
   "cell_type": "code",
   "execution_count": 4,
   "metadata": {},
   "outputs": [
    {
     "name": "stdout",
     "output_type": "stream",
     "text": [
      "Failed to download https://exam.naer.edu.tw/base/otc/testStoreFile/10028406731a8cf7705a.pdf: [Errno 2] No such file or directory: './download_folder/file_161_2.pdf'\n"
     ]
    }
   ],
   "source": [
    "from ExamFileDownloader import ExamFileDownloader"
   ]
  },
  {
   "cell_type": "code",
   "execution_count": null,
   "metadata": {},
   "outputs": [
    {
     "name": "stdout",
     "output_type": "stream",
     "text": [
      "Failed to download https://exam.naer.edu.tw/otc/testStoreFile/10028406731a8cf76ab3.pdf: [Errno 2] No such file or directory: './download_folder/file_161_1.pdf'\n",
      "Failed to download https://exam.naer.edu.tw/base/otc/testStoreFile/10028406731a851c45a6.pdf: [Errno 2] No such file or directory: './download_folder/file_163_2.pdf'\n",
      "Failed to download https://exam.naer.edu.tw/otc/testStoreFile/10028406731a88af1f09.pdf: [Errno 2] No such file or directory: './download_folder/file_162_1.pdf'\n"
     ]
    }
   ],
   "source": [
    "# !mkdir download_folder"
   ]
  },
  {
   "cell_type": "code",
   "execution_count": null,
   "metadata": {},
   "outputs": [],
   "source": [
    "# 初始化下載器\n",
    "downloader = ExamFileDownloader('./exam_data.csv',download_folder='./download_folder', max_threads=20)\n",
    "# 執行下載\n",
    "downloader.download_files()\n",
    "# 儲存對應關係\n",
    "downloader.save_mapping()"
   ]
  },
  {
   "cell_type": "code",
   "execution_count": null,
   "metadata": {},
   "outputs": [],
   "source": []
  }
 ],
 "metadata": {
  "kernelspec": {
   "display_name": "base",
   "language": "python",
   "name": "python3"
  },
  "language_info": {
   "codemirror_mode": {
    "name": "ipython",
    "version": 3
   },
   "file_extension": ".py",
   "mimetype": "text/x-python",
   "name": "python",
   "nbconvert_exporter": "python",
   "pygments_lexer": "ipython3",
   "version": "3.11.3"
  }
 },
 "nbformat": 4,
 "nbformat_minor": 2
}
